{
 "cells": [
  {
   "cell_type": "code",
   "execution_count": 9,
   "metadata": {
    "scrolled": true
   },
   "outputs": [
    {
     "name": "stdout",
     "output_type": "stream",
     "text": [
      "Name: \n",
      "Type: Graph\n",
      "Number of nodes: 416\n",
      "Number of edges: 1240\n",
      "Average degree:   5.9615\n"
     ]
    },
    {
     "data": {
      "text/html": [
       "<div>\n",
       "<style scoped>\n",
       "    .dataframe tbody tr th:only-of-type {\n",
       "        vertical-align: middle;\n",
       "    }\n",
       "\n",
       "    .dataframe tbody tr th {\n",
       "        vertical-align: top;\n",
       "    }\n",
       "\n",
       "    .dataframe thead th {\n",
       "        text-align: right;\n",
       "    }\n",
       "</style>\n",
       "<table border=\"1\" class=\"dataframe\">\n",
       "  <thead>\n",
       "    <tr style=\"text-align: right;\">\n",
       "      <th></th>\n",
       "      <th>user1</th>\n",
       "      <th>user2</th>\n",
       "      <th>weight12</th>\n",
       "    </tr>\n",
       "  </thead>\n",
       "  <tbody>\n",
       "    <tr>\n",
       "      <th>0</th>\n",
       "      <td>1</td>\n",
       "      <td>26</td>\n",
       "      <td>4.0</td>\n",
       "    </tr>\n",
       "    <tr>\n",
       "      <th>1</th>\n",
       "      <td>1</td>\n",
       "      <td>24</td>\n",
       "      <td>1.0</td>\n",
       "    </tr>\n",
       "    <tr>\n",
       "      <th>2</th>\n",
       "      <td>1</td>\n",
       "      <td>469</td>\n",
       "      <td>2.0</td>\n",
       "    </tr>\n",
       "    <tr>\n",
       "      <th>3</th>\n",
       "      <td>1</td>\n",
       "      <td>452</td>\n",
       "      <td>1.0</td>\n",
       "    </tr>\n",
       "    <tr>\n",
       "      <th>4</th>\n",
       "      <td>1</td>\n",
       "      <td>5</td>\n",
       "      <td>5.0</td>\n",
       "    </tr>\n",
       "  </tbody>\n",
       "</table>\n",
       "</div>"
      ],
      "text/plain": [
       "  user1 user2  weight12\n",
       "0     1    26       4.0\n",
       "1     1    24       1.0\n",
       "2     1   469       2.0\n",
       "3     1   452       1.0\n",
       "4     1     5       5.0"
      ]
     },
     "execution_count": 9,
     "metadata": {},
     "output_type": "execute_result"
    }
   ],
   "source": [
    "import numpy as np # linear algebra\n",
    "import pandas as pd # data processing, CSV file I/O (e.g. pd.read_csv)\n",
    "import networkx as nx\n",
    "import matplotlib.pyplot as plt\n",
    "import tkinter as tk\n",
    "from tkinter import filedialog\n",
    "\n",
    "\n",
    "# Import network in gephy format\n",
    "G=nx.read_gexf('./users_network_training.gexf')\n",
    "print(nx.info(G))\n",
    "test=pd.read_csv('./test.csv',index_col=0)\n",
    "#test.head()\n",
    "\n",
    "count = 0\n",
    "# Implements algorithm.\n",
    "# Needs :\n",
    "# Edge list with weights\n",
    "edge_list=pd.DataFrame([ (e[0],e[1],e[2]['weight']) for e in G.edges(data=True)],columns=['user1','user2','weight12'])\n",
    "edge_list.head()\n"
   ]
  },
  {
   "cell_type": "code",
   "execution_count": 11,
   "metadata": {},
   "outputs": [
    {
     "name": "stdout",
     "output_type": "stream",
     "text": [
      "         Predicted  jaccard  order\n",
      "Id                                \n",
      "3-5           True   4446.0  43195\n",
      "2-5           True   2125.0  39832\n",
      "1-3           True    348.0  48218\n",
      "496-775       True    211.0  61343\n",
      "496-696       True    201.0  10430\n",
      "...            ...      ...    ...\n",
      "364-786      False    130.0  61416\n",
      "775-780      False    130.0  71139\n",
      "408-512      False    130.0  47674\n",
      "339-819      False    130.0  61758\n",
      "412-819      False    130.0  34915\n",
      "\n",
      "[1000 rows x 3 columns]\n"
     ]
    }
   ],
   "source": [
    "\n",
    "def jaccard(listEdges,test, G):\n",
    "    #Returns the edge by jaccard coef\n",
    "    #print(test)\n",
    "    listScores = []\n",
    "   \n",
    "    for elementIndex in test.index:\n",
    "        commons= 0\n",
    "        nonCommons = 0\n",
    "        nodes = elementIndex.split(\"-\")\n",
    "        #N(X)\n",
    "        neig1 = [ n for n in G.neighbors(str(nodes[0]))]\n",
    "        #N(Y)\n",
    "        neig2 = [ n for n in G.neighbors(str(nodes[1]))]\n",
    "        \n",
    "        #Get all the commons\n",
    "        for elementNeig in neig1:\n",
    "            if elementNeig in neig2:\n",
    "                #N(X^Y)\n",
    "                commons = commons + G.edges[[nodes[0],elementNeig]]['weight']\n",
    "                commons = commons + G.edges[[nodes[1],elementNeig]]['weight']\n",
    "            #nonCommons =  nonCommons + G.edges[[nodes[0],elementNeig]]['weight']    \n",
    "        #for elementNeig in neig2:\n",
    "            #nonCommons =  nonCommons + G.edges[[nodes[1],elementNeig]]['weight']\n",
    "        jaccard_score = commons \n",
    "        listScores.append(jaccard_score)\n",
    "        #jaccard_score(y_true[0], y_pred[0])\n",
    "    return listScores\n",
    "listJaccard = jaccard(edge_list,test, G)\n",
    "listRange = range(85080)\n",
    "test['jaccard'] = listJaccard\n",
    "test['order'] = listRange\n",
    "\n",
    "test = test.sort_values(by=['jaccard'], ascending=False)\n",
    "print (test.head(1000))\n",
    "listValues = [True] * 100 + [False] * 84980\n",
    "test['Predicted'] = listValues\n",
    "test = test.sort_values(by=['order'], ascending = False)\n",
    "test = test.drop(['jaccard', 'order'], axis=1)\n",
    "test.to_csv (\"sample.csv\")\n",
    "\n",
    "# Add element to CSV file if true or false\n",
    "#for element in test.index:\n",
    "    #print (element)\n"
   ]
  },
  {
   "cell_type": "code",
   "execution_count": null,
   "metadata": {},
   "outputs": [],
   "source": [
    "\n",
    "    "
   ]
  },
  {
   "cell_type": "code",
   "execution_count": null,
   "metadata": {},
   "outputs": [],
   "source": [
    "# Edge list with weights\n",
    "edge_list=pd.DataFrame([ (e[0],e[1],e[2]['weight']) for e in G.edges(data=True)],columns=['user1','user2','weight12'])\n",
    "edge_list.head()"
   ]
  }
 ],
 "metadata": {
  "kernelspec": {
   "display_name": "Python 3",
   "language": "python",
   "name": "python3"
  },
  "language_info": {
   "codemirror_mode": {
    "name": "ipython",
    "version": 3
   },
   "file_extension": ".py",
   "mimetype": "text/x-python",
   "name": "python",
   "nbconvert_exporter": "python",
   "pygments_lexer": "ipython3",
   "version": "3.8.5"
  }
 },
 "nbformat": 4,
 "nbformat_minor": 4
}
